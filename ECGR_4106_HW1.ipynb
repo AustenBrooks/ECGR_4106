{
  "nbformat": 4,
  "nbformat_minor": 0,
  "metadata": {
    "colab": {
      "name": "ECGR_4106_HW1.ipynb",
      "provenance": [],
      "collapsed_sections": []
    },
    "kernelspec": {
      "name": "python3",
      "display_name": "Python 3"
    },
    "language_info": {
      "name": "python"
    }
  },
  "cells": [
    {
      "cell_type": "code",
      "execution_count": null,
      "metadata": {
        "colab": {
          "base_uri": "https://localhost:8080/"
        },
        "id": "Gsm-jU9JKzy1",
        "outputId": "962461ea-92f5-4e00-c208-ddc8c9b5bc8f"
      },
      "outputs": [
        {
          "output_type": "stream",
          "name": "stdout",
          "text": [
            "Drive already mounted at /content/drive; to attempt to forcibly remount, call drive.mount(\"/content/drive\", force_remount=True).\n"
          ]
        }
      ],
      "source": [
        "from google.colab import drive\n",
        "drive.mount('/content/drive')\n",
        "file_path = \"drive/MyDrive/ECGR 4106/HW_1/\""
      ]
    },
    {
      "cell_type": "code",
      "source": [
        "import torch\n",
        "torch.version.__version__"
      ],
      "metadata": {
        "colab": {
          "base_uri": "https://localhost:8080/",
          "height": 35
        },
        "id": "ozWdpoYgMKQb",
        "outputId": "56e98578-fbf4-4e73-cabf-a41d13677c04"
      },
      "execution_count": null,
      "outputs": [
        {
          "output_type": "execute_result",
          "data": {
            "application/vnd.google.colaboratory.intrinsic+json": {
              "type": "string"
            },
            "text/plain": [
              "'1.10.0+cu111'"
            ]
          },
          "metadata": {},
          "execution_count": 2
        }
      ]
    },
    {
      "cell_type": "markdown",
      "source": [
        "Problem 1,\n",
        "Load all the images and convert them to tensors"
      ],
      "metadata": {
        "id": "OfTRsSVGNXkf"
      }
    },
    {
      "cell_type": "code",
      "source": [
        "import imageio\n",
        "\n",
        "# 3 Blue images\n",
        "img_arr = imageio.imread(file_path + \"blueberry.jfif\")\n",
        "img = torch.from_numpy(img_arr)\n",
        "img = img.float()\n",
        "img /= 255.0\n",
        "img1 = img.permute(2, 0, 1)\n",
        "\n",
        "img_arr = imageio.imread(file_path + \"blueman.jpg\")\n",
        "img = torch.from_numpy(img_arr)\n",
        "img = img.float()\n",
        "img /= 255.0\n",
        "img2 = img.permute(2, 0, 1)\n",
        "\n",
        "img_arr = imageio.imread(file_path + \"flower.jpeg\")\n",
        "img = torch.from_numpy(img_arr)\n",
        "img = img.float()\n",
        "img /= 255.0\n",
        "img3 = img.permute(2, 0, 1)\n",
        "\n",
        "# 3 Green Images\n",
        "img_arr = imageio.imread(file_path + \"frog.jpg\")\n",
        "img = torch.from_numpy(img_arr)\n",
        "img = img.float()\n",
        "img /= 255.0\n",
        "img4 = img.permute(2, 0, 1)\n",
        "\n",
        "img_arr = imageio.imread(file_path + \"kiwi.jpeg\")\n",
        "img = torch.from_numpy(img_arr)\n",
        "img = img.float()\n",
        "img /= 255.0\n",
        "img5 = img.permute(2, 0, 1)\n",
        "\n",
        "img_arr = imageio.imread(file_path + \"snake.jpg\")\n",
        "img = torch.from_numpy(img_arr)\n",
        "img = img.float()\n",
        "img /= 255.0\n",
        "img6 = img.permute(2, 0, 1)\n",
        "\n",
        "# 3 Red images\n",
        "img_arr = imageio.imread(file_path + \"strawberry.jpg\")\n",
        "img = torch.from_numpy(img_arr)\n",
        "img = img.float()\n",
        "img /= 255.0\n",
        "img7 = img.permute(2, 0, 1)\n",
        "\n",
        "img_arr = imageio.imread(file_path + \"pepper.jpeg\")\n",
        "img = torch.from_numpy(img_arr)\n",
        "img = img.float()\n",
        "img /= 255.0\n",
        "img8 = img.permute(2, 0, 1)\n",
        "\n",
        "img_arr = imageio.imread(file_path + \"tomato.jpg\")\n",
        "img = torch.from_numpy(img_arr)\n",
        "img = img.float()\n",
        "img /= 255.0\n",
        "img9 = img.permute(2, 0, 1)\n"
      ],
      "metadata": {
        "id": "FGn4YhS_MWjH"
      },
      "execution_count": null,
      "outputs": []
    },
    {
      "cell_type": "markdown",
      "source": [
        "Average the 3 rgb channels together over all pixels to get overall brightness"
      ],
      "metadata": {
        "id": "1y89TQWfQnUw"
      }
    },
    {
      "cell_type": "code",
      "source": [
        "m1 = torch.mean(img1)\n",
        "print(m1)\n",
        "m2 = torch.mean(img2)\n",
        "print(m2)\n",
        "m3 = torch.mean(img3)\n",
        "print(m3)\n",
        "\n",
        "m4 = torch.mean(img4)\n",
        "print(m4)\n",
        "m5 = torch.mean(img5)\n",
        "print(m5)\n",
        "m6 = torch.mean(img6)\n",
        "print(m6)\n",
        "\n",
        "m7 = torch.mean(img7)\n",
        "print(m7)\n",
        "m8 = torch.mean(img8)\n",
        "print(m8)\n",
        "m9 = torch.mean(img9)\n",
        "print(m9)\n"
      ],
      "metadata": {
        "colab": {
          "base_uri": "https://localhost:8080/"
        },
        "id": "SQqmABxcMsBg",
        "outputId": "4b3b9f2a-1d30-442d-bbe1-12ea413b4e1b"
      },
      "execution_count": null,
      "outputs": [
        {
          "output_type": "stream",
          "name": "stdout",
          "text": [
            "tensor(0.3113)\n",
            "tensor(0.2002)\n",
            "tensor(0.2683)\n",
            "tensor(0.2255)\n",
            "tensor(0.3050)\n",
            "tensor(0.1561)\n",
            "tensor(0.7540)\n",
            "tensor(0.2984)\n",
            "tensor(0.4360)\n"
          ]
        }
      ]
    },
    {
      "cell_type": "markdown",
      "source": [
        "Average each RGB channel over all the pixels to get overall values for R G and B"
      ],
      "metadata": {
        "id": "KgTDOgEQSTul"
      }
    },
    {
      "cell_type": "code",
      "source": [
        "m1 = torch.mean(img1, (1,2))\n",
        "print(m1)\n",
        "m2 = torch.mean(img2, (1,2))\n",
        "print(m2)\n",
        "m3 = torch.mean(img3, (1,2))\n",
        "print(m3)\n",
        "\n",
        "m4 = torch.mean(img4, (1,2))\n",
        "print(m4)\n",
        "m5 = torch.mean(img5, (1,2))\n",
        "print(m5)\n",
        "m6 = torch.mean(img6, (1,2))\n",
        "print(m6)\n",
        "\n",
        "m7 = torch.mean(img7, (1,2))\n",
        "print(m7)\n",
        "m8 = torch.mean(img8, (1,2))\n",
        "print(m8)\n",
        "m9 = torch.mean(img9, (1,2))\n",
        "print(m9)\n"
      ],
      "metadata": {
        "colab": {
          "base_uri": "https://localhost:8080/"
        },
        "id": "bLSH61BBSSmM",
        "outputId": "4f2dde7e-45ae-4ede-813a-d301cd2efcc3"
      },
      "execution_count": null,
      "outputs": [
        {
          "output_type": "stream",
          "name": "stdout",
          "text": [
            "tensor([0.1970, 0.2719, 0.4649])\n",
            "tensor([0.1017, 0.1593, 0.3396])\n",
            "tensor([0.1712, 0.2833, 0.3505])\n",
            "tensor([0.2180, 0.3940, 0.0643])\n",
            "tensor([0.3707, 0.3991, 0.1454])\n",
            "tensor([0.1952, 0.2086, 0.0645])\n",
            "tensor([0.8682, 0.7046, 0.6891])\n",
            "tensor([0.6113, 0.1684, 0.1155])\n",
            "tensor([0.8550, 0.2780, 0.1751])\n"
          ]
        }
      ]
    },
    {
      "cell_type": "markdown",
      "source": [
        "Problem 2\n",
        "\n",
        "model and function definitions"
      ],
      "metadata": {
        "id": "SSLAr1W-SzlY"
      }
    },
    {
      "cell_type": "code",
      "source": [
        "def model(t_u, w, b):\n",
        "  return w * t_u + b\n",
        "\n",
        "def loss_fn(t_p, t_c):\n",
        "  squared_diffs = (t_p - t_c)**2\n",
        "  return squared_diffs.mean()\n",
        "\n",
        "def dloss_fn(t_p, t_c):\n",
        "  dsq_diffs = 2 * (t_p - t_c) / t_p.size(0)\n",
        "  return dsq_diffs\n",
        "\n",
        "def dmodel_dw(t_u, w, b):\n",
        "  return t_u\n",
        "\n",
        "def dmodel_db(t_u, w, b):\n",
        "  return 1.0\n",
        "\n",
        "def grad_fn(t_u, t_c, t_p, w, b):\n",
        "  dloss_dtp = dloss_fn(t_p, t_c)\n",
        "  dloss_dw = dloss_dtp * dmodel_dw(t_u, w, b)\n",
        "  dloss_db = dloss_dtp * dmodel_db(t_u, w, b)\n",
        "  return torch.stack([dloss_dw.sum(), dloss_db.sum()])\n",
        " \n",
        "def training_loop(n_epochs, learning_rate, params, t_u, t_c):\n",
        "  for epoch in range(1, n_epochs + 1):\n",
        "    w, b = params\n",
        "\n",
        "    t_p = model(t_u, w, b)\n",
        "    loss = loss_fn(t_p, t_c)\n",
        "    grad = grad_fn(t_u, t_c, t_p, w, b)\n",
        "\n",
        "    params = params - learning_rate * grad\n",
        "    if epoch % 500 == 0:\n",
        "      print(\"Epoch %d, Loss %f\" %(epoch, float(loss)))\n",
        "  return params\n"
      ],
      "metadata": {
        "id": "ZX1ITPRLThHs"
      },
      "execution_count": null,
      "outputs": []
    },
    {
      "cell_type": "code",
      "source": [
        "t_c = [0.5, 14.0, 15.0, 28.0, 11.0, 8.0, 3.0, -4.0, 6.0, 13.0, 21.0]\n",
        "t_u = [35.7, 55.9, 58.2, 81.9, 56.3, 48.9, 33.9, 21.8, 48.4, 60.4, 68.4]\n",
        "t_c = torch.tensor(t_c)\n",
        "t_u = torch.tensor(t_u)\n",
        "\n",
        "t_un = 0.1 * t_u\n",
        "params = training_loop(\n",
        "n_epochs = 5000,\n",
        "learning_rate = 1e-2,\n",
        "params = torch.tensor([1.0, 0.0]),\n",
        "t_u = t_un,\n",
        "t_c = t_c)\n",
        "\n",
        "# Plot datapoints and the paramters\n",
        "from matplotlib import pyplot as plt\n",
        "\n",
        "t_p = model(t_un, *params)\n",
        "\n",
        "fig = plt.figure()\n",
        "plt.xlabel(\"Temerature F\")\n",
        "plt.ylabel(\"Temerature C\")\n",
        "plt.plot(t_u.numpy(), t_p.detach().numpy())\n",
        "plt.plot(t_u.numpy(), t_c.numpy(), 'o')"
      ],
      "metadata": {
        "colab": {
          "base_uri": "https://localhost:8080/",
          "height": 470
        },
        "id": "7otB6r2J-cwf",
        "outputId": "1a5ff5a6-8c66-4328-d9d2-d8d83e6022c6"
      },
      "execution_count": null,
      "outputs": [
        {
          "output_type": "stream",
          "name": "stdout",
          "text": [
            "Epoch 500, Loss 7.860115\n",
            "Epoch 1000, Loss 3.828538\n",
            "Epoch 1500, Loss 3.092191\n",
            "Epoch 2000, Loss 2.957698\n",
            "Epoch 2500, Loss 2.933134\n",
            "Epoch 3000, Loss 2.928648\n",
            "Epoch 3500, Loss 2.927830\n",
            "Epoch 4000, Loss 2.927680\n",
            "Epoch 4500, Loss 2.927651\n",
            "Epoch 5000, Loss 2.927648\n"
          ]
        },
        {
          "output_type": "execute_result",
          "data": {
            "text/plain": [
              "[<matplotlib.lines.Line2D at 0x7f622d65e210>]"
            ]
          },
          "metadata": {},
          "execution_count": 7
        },
        {
          "output_type": "display_data",
          "data": {
            "image/png": "[encoded data removed]",
            "text/plain": [
              "<Figure size 432x288 with 1 Axes>"
            ]
          },
          "metadata": {
            "needs_background": "light"
          }
        }
      ]
    },
    {
      "cell_type": "markdown",
      "source": [
        "Non linear model"
      ],
      "metadata": {
        "id": "eWEYKFY5B_zn"
      }
    },
    {
      "cell_type": "code",
      "source": [
        "def model_non_lin(t_u, w1, w2, b):\n",
        "  return w2 * t_u ** 2 + w1 * t_u + b\n",
        "\n",
        "def dmodel_dw1(t_u, w1, w2, b):\n",
        "\treturn t_u\n",
        "\n",
        "def dmodel_dw2(t_u, w1, w2, b):\n",
        "  return t_u**2\n",
        "\n",
        "def dmodel_db_non_lin(t_u, w1, w2, b):\n",
        "\treturn 1.0\n",
        "\n",
        "def grad_fn_non_lin(t_u, t_c, t_p, w1, w2, b):\n",
        "  dloss_dtp = dloss_fn(t_p, t_c)\n",
        "  dloss_dw1 = dloss_dtp * dmodel_dw1(t_u, w1, w2, b)\n",
        "  dloss_dw2 = dloss_dtp * dmodel_dw2(t_u, w1, w2, b)\n",
        "  dloss_db = dloss_dtp * dmodel_db_non_lin(t_u, w1, w2, b)\n",
        "  return torch.stack([dloss_dw1.sum(), dloss_dw2.sum(), dloss_db.sum()])\n",
        "\n",
        "def training_loop_non_lin(n_epochs, learning_rate, params, t_u, t_c):\n",
        "  for epoch in range(1, n_epochs + 1):\n",
        "    w1, w2, b = params\n",
        "\n",
        "    t_p = model_non_lin(t_u, w1, w2, b)\n",
        "    loss = loss_fn(t_p, t_c)\n",
        "    grad = grad_fn_non_lin(t_u, t_c, t_p, w1, w2, b)\n",
        "    params = params - learning_rate * grad\n",
        "    \n",
        "    if epoch % 500 == 0:\n",
        "      print(\"Epoch %d, Loss %f\" %(epoch, float(loss)))\n",
        "  return params"
      ],
      "metadata": {
        "id": "6Y4K91f-B-4P"
      },
      "execution_count": null,
      "outputs": []
    },
    {
      "cell_type": "code",
      "source": [
        "t_c = [0.5, 14.0, 15.0, 28.0, 11.0, 8.0, 3.0, -4.0, 6.0, 13.0, 21.0]\n",
        "t_u = [35.7, 55.9, 58.2, 81.9, 56.3, 48.9, 33.9, 21.8, 48.4, 60.4, 68.4]\n",
        "t_c = torch.tensor(t_c)\n",
        "t_u = torch.tensor(t_u)\n",
        "\n",
        "t_un = 0.1 * t_u\n",
        "params = training_loop_non_lin(\n",
        "n_epochs = 5000,\n",
        "learning_rate = 1e-4,\n",
        "params = torch.tensor([1.0, 1.0, 0.0]),\n",
        "t_u = t_un,\n",
        "t_c = t_c)\n",
        "\n",
        "# Plot datapoints and the paramters\n",
        "from matplotlib import pyplot as plt\n",
        "\n",
        "t_p = model_non_lin(t_un, *params)\n",
        "\n",
        "fig = plt.figure()\n",
        "plt.xlabel(\"Temerature F\")\n",
        "plt.ylabel(\"Temerature C\")\n",
        "plt.plot(t_u.numpy(), t_p.detach().numpy())\n",
        "plt.plot(t_u.numpy(), t_c.numpy(), 'o')"
      ],
      "metadata": {
        "colab": {
          "base_uri": "https://localhost:8080/",
          "height": 470
        },
        "id": "mMHJZp09_9C5",
        "outputId": "66990608-7662-494e-f7f5-245606de9faf"
      },
      "execution_count": null,
      "outputs": [
        {
          "output_type": "stream",
          "name": "stdout",
          "text": [
            "Epoch 500, Loss 10.708597\n",
            "Epoch 1000, Loss 8.642083\n",
            "Epoch 1500, Loss 7.171005\n",
            "Epoch 2000, Loss 6.123476\n",
            "Epoch 2500, Loss 5.377228\n",
            "Epoch 3000, Loss 4.845286\n",
            "Epoch 3500, Loss 4.465787\n",
            "Epoch 4000, Loss 4.194724\n",
            "Epoch 4500, Loss 4.000802\n",
            "Epoch 5000, Loss 3.861744\n"
          ]
        },
        {
          "output_type": "execute_result",
          "data": {
            "text/plain": [
              "[<matplotlib.lines.Line2D at 0x7f622d14f510>]"
            ]
          },
          "metadata": {},
          "execution_count": 9
        },
        {
          "output_type": "display_data",
          "data": {
            "image/png": "[encoded data removed]",
            "text/plain": [
              "<Figure size 432x288 with 1 Axes>"
            ]
          },
          "metadata": {
            "needs_background": "light"
          }
        }
      ]
    },
    {
      "cell_type": "markdown",
      "source": [
        "Problem 3\n",
        "\n",
        "Housing Dataset"
      ],
      "metadata": {
        "id": "K5C-DiDdWEjN"
      }
    },
    {
      "cell_type": "code",
      "source": [
        "import numpy as np \n",
        "import pandas as pd \n",
        "\n",
        "housing = pd.DataFrame(pd.read_csv(file_path + \"Housing.csv\")) \n",
        "\n",
        "num_vars = ['area', 'bedrooms', 'bathrooms', 'stories', 'parking','price'] \n",
        "Newtrain = housing[num_vars]\n",
        "y = Newtrain.pop('price').to_numpy(np.float)\n",
        "x = Newtrain.to_numpy(np.float)"
      ],
      "metadata": {
        "id": "hUlOJDOSWI6c"
      },
      "execution_count": null,
      "outputs": []
    },
    {
      "cell_type": "markdown",
      "source": [
        "Models and functions for housing training"
      ],
      "metadata": {
        "id": "s60xBJCCXqSv"
      }
    },
    {
      "cell_type": "code",
      "source": [
        "def model_house(x, w, b):\n",
        "  return np.matmul(x, w) + b\n",
        "\n",
        "def dmodel_dw1_house(x, w, b):\n",
        "  return x[:,0]\n",
        "def dmodel_dw2_house(x, w, b):\n",
        "  return x[:,1]\n",
        "def dmodel_dw3_house(x, w, b):\n",
        "  return x[:,2]\n",
        "def dmodel_dw4_house(x, w, b):\n",
        "  return x[:,3]\n",
        "def dmodel_dw5_house(x, w, b):\n",
        "  return x[:,4]\n",
        "\n",
        "def dmodel_db_house(x, w, b):\n",
        "  return 1.0\n",
        "\n",
        "def grad_fn_house(x, y, pred, w, b):\n",
        "  dloss_dtp = dloss_fn(pred, y)\n",
        "  dloss_dw1 = dloss_dtp * dmodel_dw1_house(x, w, b)\n",
        "  dloss_dw2 = dloss_dtp * dmodel_dw2_house(x, w, b)\n",
        "  dloss_dw3 = dloss_dtp * dmodel_dw3_house(x, w, b)\n",
        "  dloss_dw4 = dloss_dtp * dmodel_dw4_house(x, w, b)\n",
        "  dloss_dw5 = dloss_dtp * dmodel_dw5_house(x, w, b)\n",
        "  dloss_db = dloss_dtp * dmodel_db_house(x, w, b)\n",
        "  return torch.stack([dloss_dw1.sum(), dloss_dw2.sum(), dloss_dw3.sum(), dloss_dw4.sum(), dloss_dw5.sum(), dloss_db.sum()])\n",
        " \n",
        "def training_loop_house(n_epochs, learning_rate, params, x, y):\n",
        "  for epoch in range(1, n_epochs + 1):\n",
        "    b = params[-1]\n",
        "    w = params[:-1]\n",
        "\n",
        "    pred = model_house(x, w, b)\n",
        "    loss = loss_fn(pred, y)\n",
        "    grad = grad_fn_house(x, y, pred, w, b)\n",
        "    #print(params, grad)\n",
        "    #input()\n",
        "    params = params - learning_rate * grad\n",
        "    if epoch % 500 == 0:\n",
        "      print(\"Epoch %d, Loss %f\" %(epoch, float(loss)))\n",
        "  return params\n"
      ],
      "metadata": {
        "id": "ohL1A2pzXpRf"
      },
      "execution_count": null,
      "outputs": []
    },
    {
      "cell_type": "code",
      "source": [
        "max_x = np.amax(x, axis=0)\n",
        "max_y = np.amax(y)\n",
        "\n",
        "new_x = x\n",
        "new_y = y \n",
        "\n",
        "# normalize all parameters\n",
        "new_x[:,0] = x[:,0]/max_x[0]\n",
        "new_x[:,1] = x[:,1]/max_x[1]\n",
        "new_x[:,2] = x[:,2]/max_x[2]\n",
        "new_x[:,3] = x[:,3]/max_x[3]\n",
        "new_x[:,4] = x[:,4]/max_x[4]\n",
        "# new_y = y/max_y\n",
        "\n",
        "new_x = torch.tensor(new_x)\n",
        "new_y = torch.tensor(new_y)\n",
        "\n",
        "# train model\n",
        "params = training_loop_house(\n",
        "n_epochs = 5000,\n",
        "learning_rate = 1e-2,\n",
        "params = torch.tensor([1.0, 1.0, 1.0, 1.0, 1.0, 0.0]),\n",
        "x = new_x,\n",
        "y = new_y)\n",
        "\n",
        "# Plot datapoints and the paramters\n",
        "from matplotlib import pyplot as plt\n",
        "\n",
        "pred = model_house(new_x, params[:-1], params[-1])\n",
        "print(pred[0])\n",
        "print(new_y[0])\n",
        "fig = plt.figure()\n",
        "plt.xlabel(\"Sample\")\n",
        "plt.ylabel(\"Cost\")\n",
        "plt.ylim([np.amin(y) * .95, np.amax(y) * 1.05])\n",
        "plt.plot(pred.detach().numpy(), 'o', label=\"Predicted\")\n",
        "plt.plot(new_y.numpy(), 'o', label=\"Actual Cost\")\n",
        "plt.legend()"
      ],
      "metadata": {
        "colab": {
          "base_uri": "https://localhost:8080/",
          "height": 516
        },
        "id": "OBqhAVC8Xwfi",
        "outputId": "d3f369d5-e3d9-4aac-a79e-598078687128"
      },
      "execution_count": null,
      "outputs": [
        {
          "output_type": "stream",
          "name": "stdout",
          "text": [
            "Epoch 500, Loss 2024805783902.583984\n",
            "Epoch 1000, Loss 1863258466727.914307\n",
            "Epoch 1500, Loss 1768051362590.842285\n",
            "Epoch 2000, Loss 1704595000950.190430\n",
            "Epoch 2500, Loss 1659789065346.188965\n",
            "Epoch 3000, Loss 1627244053690.387207\n",
            "Epoch 3500, Loss 1603242094079.036621\n",
            "Epoch 4000, Loss 1585383250941.523193\n",
            "Epoch 4500, Loss 1572022959620.682617\n",
            "Epoch 5000, Loss 1561993317652.091797\n",
            "tensor(7528113.7117, dtype=torch.float64)\n",
            "tensor(13300000., dtype=torch.float64)\n"
          ]
        },
        {
          "output_type": "execute_result",
          "data": {
            "text/plain": [
              "<matplotlib.legend.Legend at 0x7f622a3a6f50>"
            ]
          },
          "metadata": {},
          "execution_count": 54
        },
        {
          "output_type": "display_data",
          "data": {
            "image/png": "[encoded data removed]",
            "text/plain": [
              "<Figure size 432x288 with 1 Axes>"
            ]
          },
          "metadata": {
            "needs_background": "light"
          }
        }
      ]
    }
  ]
}